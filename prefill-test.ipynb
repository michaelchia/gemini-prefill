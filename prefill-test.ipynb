{
 "cells": [
  {
   "cell_type": "code",
   "execution_count": 2,
   "metadata": {},
   "outputs": [
    {
     "name": "stderr",
     "output_type": "stream",
     "text": [
      "/Users/m/VSCodeProjects/gemini-prefill/.venv/lib/python3.11/site-packages/tqdm/auto.py:21: TqdmWarning: IProgress not found. Please update jupyter and ipywidgets. See https://ipywidgets.readthedocs.io/en/stable/user_install.html\n",
      "  from .autonotebook import tqdm as notebook_tqdm\n"
     ]
    }
   ],
   "source": [
    "from langchain_core.messages import HumanMessage, AIMessage\n",
    "from langchain_google_genai import ChatGoogleGenerativeAI\n",
    "\n",
    "\n",
    "def complete(model, prompt, prefill):\n",
    "    llm = ChatGoogleGenerativeAI(model=model, temperature=0.0)\n",
    "    return prefill + llm.invoke([HumanMessage(content=prompt), AIMessage(content=prefill)]).content\n"
   ]
  },
  {
   "cell_type": "markdown",
   "metadata": {},
   "source": [
    "## JSON"
   ]
  },
  {
   "cell_type": "code",
   "execution_count": 3,
   "metadata": {},
   "outputs": [
    {
     "name": "stdout",
     "output_type": "stream",
     "text": [
      "gemini-1.5-flash-latest:\n",
      "\n",
      "{\n",
      "    \"student_id\": \"12345\",\n",
      "    \"first_name\": \"John\",\n",
      "    \"last_name\": \"Doe\",\n",
      "    \"age\": 20,\n",
      "    \"major\": \"Computer Science\",\n",
      "    \"gpa\": 3.8,\n",
      "    \"courses\": [\n",
      "        {\n",
      "            \"course_name\": \"Introduction to Programming\",\n",
      "            \"grade\": \"A\"\n",
      "        },\n",
      "        {\n",
      "            \"course_name\": \"Data Structures and Algorithms\",\n",
      "            \"grade\": \"B+\"\n",
      "        }\n",
      "    ],\n",
      "    \"address\": {\n",
      "        \"street\": \"123 Main Street\",\n",
      "        \"city\": \"Anytown\",\n",
      "        \"state\": \"CA\",\n",
      "        \"zip\": \"91234\"\n",
      "    },\n",
      "    \"email\": \"john.doe@example.com\",\n",
      "    \"phone\": \"555-123-4567\"\n",
      "}\n",
      "\n"
     ]
    }
   ],
   "source": [
    "model = \"gemini-1.5-flash-latest\"\n",
    "prompt = \"Write a json with student details.\"\n",
    "prefill = \"\"\"\n",
    "{\n",
    "    \"student_id\": \"12345\",\n",
    "    \"first_\n",
    "\"\"\".strip(\"\\n\")\n",
    "print(model + \":\\n\")\n",
    "print(complete(model, prompt, prefill))"
   ]
  },
  {
   "cell_type": "markdown",
   "metadata": {},
   "source": [
    "#### able to continue from prefill"
   ]
  },
  {
   "cell_type": "code",
   "execution_count": 4,
   "metadata": {},
   "outputs": [
    {
     "name": "stdout",
     "output_type": "stream",
     "text": [
      "gemini-1.5-flash-latest:\n",
      "\n",
      "{\n",
      "    \"student_id\": \"12345\",\n",
      "    \"first_name\": \"John\",    \"last_name\": \"Doe\",\n",
      "    \"email\": \"john.doe@example.com\",\n",
      "    \"major\": \"Computer Science\",\n",
      "    \"year\": \"Junior\",\n",
      "    \"gpa\": 3.8\n",
      "}\n",
      "\n"
     ]
    }
   ],
   "source": [
    "model = \"gemini-1.5-flash-latest\"\n",
    "prompt = \"Write a json with a single student's details.\"\n",
    "prefill = \"\"\"\n",
    "{\n",
    "    \"student_id\": \"12345\",\n",
    "    \"first_name\": \"John\",\n",
    "\"\"\".strip(\"\\n\")\n",
    "print(model + \":\\n\")\n",
    "print(complete(model, prompt, prefill))"
   ]
  },
  {
   "cell_type": "markdown",
   "metadata": {},
   "source": [
    "#### can't seem to start with new line (\\n)\n"
   ]
  },
  {
   "cell_type": "code",
   "execution_count": 5,
   "metadata": {},
   "outputs": [
    {
     "name": "stdout",
     "output_type": "stream",
     "text": [
      "gemini-1.5-flash-latest:\n",
      "\n",
      "{\n",
      "    \"student_id\": \"12345\",\n",
      "    \"first_name\": \"    \"last_name\": \"Doe\",\n",
      "    \"email\": \"john.doe@example.com\",\n",
      "    \"major\": \"Computer Science\",\n",
      "    \"year\": \"Junior\",\n",
      "    \"gpa\": 3.8\n",
      "}\n",
      "\n"
     ]
    }
   ],
   "source": [
    "model = \"gemini-1.5-flash-latest\"\n",
    "prompt = \"Write a json with a single student's details.\"\n",
    "prefill = \"\"\"\n",
    "{\n",
    "    \"student_id\": \"12345\",\n",
    "    \"first_name\": \"\n",
    "\"\"\".strip(\"\\n\")\n",
    "print(model + \":\\n\")\n",
    "print(complete(model, prompt, prefill))"
   ]
  },
  {
   "cell_type": "markdown",
   "metadata": {},
   "source": [
    "#### doesn't complete current line but continues from next line"
   ]
  },
  {
   "cell_type": "code",
   "execution_count": 6,
   "metadata": {},
   "outputs": [
    {
     "name": "stdout",
     "output_type": "stream",
     "text": [
      "gemini-1.0-pro-latest:\n",
      "\n",
      "{\n",
      "    \"student_id\": \"12345\",\n",
      "    \"first_name\": \"John\",\n",
      "    \"last_name\": \"Doe\",\n",
      "    \"email\": \"john.doe@example.com\",\n",
      "    \"phone_number\": \"555-123-4567\",\n",
      "    \"address\": \"123 Main Street, Anytown, CA 12345\",\n",
      "    \"gpa\": 3.5,\n",
      "    \"major\": \"Computer Science\",\n",
      "    \"year_of_study\": \"Junior\",\n",
      "    \"clubs\": [\"Computer Science Club\", \"Math Club\"],\n",
      "    \"awards\": [\"Dean's List\", \"President's List\"],\n",
      "    \"interests\": [\"Programming\", \"Math\", \"Science\"]\n",
      "}\n"
     ]
    }
   ],
   "source": [
    "model = \"gemini-1.0-pro-latest\"\n",
    "prompt = \"Write a json with a single student's details.\"\n",
    "prefill = \"\"\"\n",
    "{\n",
    "    \"student_id\": \"12345\",\n",
    "    \"first_name\": \"\n",
    "\"\"\".strip(\"\\n\")\n",
    "print(model + \":\\n\")\n",
    "print(complete(model, prompt, prefill))"
   ]
  },
  {
   "cell_type": "markdown",
   "metadata": {},
   "source": [
    "#### gemini 1.0 pro works"
   ]
  },
  {
   "cell_type": "markdown",
   "metadata": {},
   "source": [
    "## Code"
   ]
  },
  {
   "cell_type": "code",
   "execution_count": 7,
   "metadata": {},
   "outputs": [
    {
     "name": "stdout",
     "output_type": "stream",
     "text": [
      "gemini-1.5-flash-latest:\n",
      "\n",
      "def add(  num1,\n",
      "\n",
      "  num2\n",
      "\n",
      "):\n",
      "\n",
      "  \"\"\"\n",
      "\n",
      "  This function adds two numbers together.\n",
      "\n",
      "  Args:\n",
      "\n",
      "    num1: The first number.\n",
      "\n",
      "    num2: The second number.\n",
      "\n",
      "  Returns:\n",
      "\n",
      "    The sum of the two numbers.\n",
      "\n",
      "  \"\"\"\n",
      "\n",
      "  return num1 + num2\n",
      "\n"
     ]
    }
   ],
   "source": [
    "model = \"gemini-1.5-flash-latest\"\n",
    "prompt = \"Write a python function that adds 2 numbers together.\"\n",
    "prefill = \"\"\"\n",
    "def add(\n",
    "\"\"\".strip(\"\\n\")\n",
    "print(model + \":\\n\")\n",
    "print(complete(model, prompt, prefill))\n"
   ]
  },
  {
   "cell_type": "markdown",
   "metadata": {},
   "source": [
    "#### weird spacing + doesn't start with new line but somewhat works\n"
   ]
  },
  {
   "cell_type": "code",
   "execution_count": 8,
   "metadata": {},
   "outputs": [
    {
     "name": "stdout",
     "output_type": "stream",
     "text": [
      "gemini-1.5-flash-latest:\n",
      "\n",
      "def add(a, b):\n",
      "    return```python\n",
      "def add(a, b):\n",
      "  \"\"\"Adds two numbers together.\n",
      "\n",
      "  Args:\n",
      "    a: The first number.\n",
      "    b: The second number.\n",
      "\n",
      "  Returns:\n",
      "    The sum of a and b.\n",
      "  \"\"\"\n",
      "  return a + b\n",
      "```\n"
     ]
    }
   ],
   "source": [
    "model = \"gemini-1.5-flash-latest\"\n",
    "prompt = \"Write a python function that adds 2 numbers together.\"\n",
    "prefill = \"\"\"\n",
    "def add(a, b):\n",
    "    return\n",
    "\"\"\".strip(\"\\n\")\n",
    "print(model + \":\\n\")\n",
    "print(complete(model, prompt, prefill))"
   ]
  },
  {
   "cell_type": "markdown",
   "metadata": {},
   "source": [
    "#### completely ignores prefill"
   ]
  },
  {
   "cell_type": "code",
   "execution_count": 9,
   "metadata": {},
   "outputs": [
    {
     "name": "stdout",
     "output_type": "stream",
     "text": [
      "gemini-1.0-pro-latest:\n",
      "\n",
      "def add(a, b):\n",
      "    return a + b\n"
     ]
    }
   ],
   "source": [
    "model = \"gemini-1.0-pro-latest\"\n",
    "prompt = \"Write a python function that adds 2 numbers together.\"\n",
    "prefill = \"\"\"\n",
    "def add(a, b):\n",
    "    return\n",
    "\"\"\".strip(\"\\n\")\n",
    "print(model + \":\\n\")\n",
    "print(complete(model, prompt, prefill))"
   ]
  },
  {
   "cell_type": "markdown",
   "metadata": {},
   "source": [
    "#### gemini 1.0 pro works\n"
   ]
  }
 ],
 "metadata": {
  "kernelspec": {
   "display_name": ".venv",
   "language": "python",
   "name": "python3"
  },
  "language_info": {
   "codemirror_mode": {
    "name": "ipython",
    "version": 3
   },
   "file_extension": ".py",
   "mimetype": "text/x-python",
   "name": "python",
   "nbconvert_exporter": "python",
   "pygments_lexer": "ipython3",
   "version": "3.11.2"
  }
 },
 "nbformat": 4,
 "nbformat_minor": 2
}
